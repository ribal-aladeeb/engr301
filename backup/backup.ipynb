{
 "cells": [
  {
   "cell_type": "code",
   "execution_count": 13,
   "metadata": {},
   "outputs": [],
   "source": [
    "import numpy as np\n",
    "import matplotlib.pyplot as plt\n",
    "import math\n",
    "import pandas as pd\n",
    "from tabulate import tabulate"
   ]
  },
  {
   "cell_type": "code",
   "execution_count": 14,
   "metadata": {},
   "outputs": [],
   "source": [
    "client_cost_per_piece = 0.5\n",
    "internal_cost_per_piece = 0.7\n",
    "salvage_rate = 0.1\n",
    "\n",
    "machine = {\n",
    "    'A': {\n",
    "        'purchase_cost': 18000,\n",
    "        'annual_maintenance_cost': 1350,\n",
    "        'setup_cost': 750,\n",
    "        'production_rate': 6,\n",
    "        'internal_rate': 6*2\n",
    "    },\n",
    "    'B': {\n",
    "        'purchase_cost': 27000,\n",
    "        'annual_maintenance_cost': 2430,\n",
    "        'setup_cost': 1000,\n",
    "        'production_rate': 12,\n",
    "        'internal_rate': int(12*1.5),\n",
    "    },\n",
    "    'C': {\n",
    "        'purchase_cost': 64000,\n",
    "        'annual_maintenance_cost': 4250,\n",
    "        'setup_cost': 3000,\n",
    "        'production_rate': 30,\n",
    "        'internal_rate': 30,\n",
    "    },\n",
    "    'D': {\n",
    "        'purchase_cost': 124000,\n",
    "        'annual_maintenance_cost': 14400,\n",
    "        'setup_cost': 6000,\n",
    "        'production_rate': 30,\n",
    "        'internal_rate': 30,\n",
    "    },\n",
    "}"
   ]
  },
  {
   "cell_type": "markdown",
   "metadata": {},
   "source": [
    "Assumptions:<br>\n",
    "- 200k pieces/year<br>\n",
    "<br>because the machines have a 1M piece life cycle and the managers want a 5 year life cycle each year we need to produce 200K pieces for a total of 1M pieces after 5 years.\n",
    "<br><br>\n",
    "\n",
    "- salvage price of 10% of initial price<br>\n",
    "<br>We analysed prices from [this website](https://www.sterlingmachinery.com/new-used-lathes-sale-engine-lathe/new-used-engine-lathe.html) and determined that the average resale price is close 0.1 times the original prices for those machines.\n",
    "<br><br>\n",
    "\n",
    "- The machines will run 2 shifts (8 hours each)<br>\n",
    "<br>The reason for that is that we feel like it is useless to only utilize a 1/3 of a day to produce parts as it is a waste of time and can seriously slow down the project. It is also just common industry practice to have the machines run for more than 1 shift/day.\n",
    "<br><br>\n",
    "\n",
    "- 11% interest rate<br>\n",
    "<br> we use that rate simply because it is very similar to the rates seen in practice problems throughout the course.\n",
    "<br><br>\n",
    "\n",
    "- Interest is compunded yearly (for simplicity's sake)\n",
    "\n",
    "- 52 weeks x 5 days/week = 260 business days per year"
   ]
  },
  {
   "cell_type": "code",
   "execution_count": 15,
   "metadata": {},
   "outputs": [],
   "source": [
    "base_hourly_salary = 14.29\n",
    "extra_shift_multiplier = 0.25\n",
    "benefits_multiplier = 0.63      # is applied to base pay only\n",
    "manufacturing_overhead = 0.47   # is applied to direct pay\n",
    "\n",
    "def nominal_labour_cost(days=260, shifts=2):\n",
    "    '''for 1 operator'''\n",
    "\n",
    "    hourly_cost1 = (\n",
    "        base_hourly_salary + \n",
    "        base_hourly_salary * benefits_multiplier + \n",
    "        base_hourly_salary * manufacturing_overhead\n",
    "    )\n",
    "    shift1 = days * 8 * hourly_cost1\n",
    "    \n",
    "    # print(f'hourly cost shift 1 = {round(hourly_cost1,2)}')\n",
    "\n",
    "    if shifts > 1:\n",
    "\n",
    "        extra_shifts = shifts-1\n",
    "        direct_pay = base_hourly_salary * (1 + extra_shift_multiplier)\n",
    "        hourly_costx = (\n",
    "            direct_pay + \n",
    "            base_hourly_salary * benefits_multiplier +\n",
    "            direct_pay * manufacturing_overhead\n",
    "        )\n",
    "        shiftx = days * 8 * extra_shifts * hourly_costx\n",
    "    else:\n",
    "        shiftx = 0\n",
    "    \n",
    "    # print(f'hourly cost for extra shifts = {round(hourly_costx,2)}')\n",
    "\n",
    "    total_labour_cost = shift1 + shiftx\n",
    "\n",
    "    return round(total_labour_cost,2)"
   ]
  },
  {
   "cell_type": "code",
   "execution_count": 16,
   "metadata": {},
   "outputs": [
    {
     "name": "stdout",
     "output_type": "stream",
     "text": [
      "The number of machines required: 5\n",
      "Days spent producing client pieces:   209\n",
      "Days spent producing internal pieces: 6\n",
      "                          Total days: 215\n"
     ]
    }
   ],
   "source": [
    "def number_of_machines_required(machine_type, num_shifts=2, client_target=200000, internal_target=8000):\n",
    "    '''\n",
    "    This function tells you how many machines you need given a type and the number\n",
    "    of shifts that the machines will be running (1, 2, or 3). It is assumed that machines run\n",
    "    5 days/week, 4 weeks/month, 12 months/year.\n",
    "    52 weeks x 5 days/week = 260 business days/year\n",
    "    '''\n",
    "    \n",
    "    r1 = machine[machine_type]['production_rate']\n",
    "    r2 = machine[machine_type]['internal_rate']\n",
    "    c1 = client_target\n",
    "    c2 = internal_target\n",
    "    s = num_shifts      # number of shifts per day\n",
    "    d1 = 0              # days spent producing for client\n",
    "    d2 = 0              # days spent producing internally\n",
    "\n",
    "    # N*r1*(8)*s*d1 = c1\n",
    "    # N*r2*(8)*s*(260-d1) = c2\n",
    "    # N\n",
    "\n",
    "    N = (c2+c1*(r2/r1))/(260*8*s*r2)\n",
    "    N = math.ceil(N)\n",
    "    d1 = math.ceil(c1/(N*r1*s*8))\n",
    "    d2 = math.ceil(c2/(N*r2*s*8))\n",
    "\n",
    "    return N, d1, d2\n",
    "\n",
    "num_machines, d1, d2 = number_of_machines_required(machine_type='B', num_shifts=2, client_target=200000, internal_target=8000)\n",
    "\n",
    "print(f'The number of machines required: {num_machines}')\n",
    "print(f'Days spent producing client pieces:   {d1}')\n",
    "print(f'Days spent producing internal pieces: {d2}')\n",
    "print(f'                          Total days: {d1+d2}')"
   ]
  },
  {
   "cell_type": "code",
   "execution_count": 17,
   "metadata": {},
   "outputs": [],
   "source": [
    "def cashflow_analysis(machine_type, num_shifts=2, client_target=200000, internal_target=8000):\n",
    "    num_machines, d1, d2 = number_of_machines_required(machine_type,\n",
    "                                                        num_shifts,\n",
    "                                                        client_target,\n",
    "                                                        internal_target\n",
    "                                                        )\n",
    "    num_days = d1 + d2\n",
    "    if machine_type == 'A' or machine_type == 'B':\n",
    "        operators_required = num_machines\n",
    "    elif machine_type == 'C':\n",
    "        operators_required = num_machines//2\n",
    "    else:\n",
    "        operators_required = 0\n",
    "\n",
    "    labour_cost = operators_required * nominal_labour_cost(num_days, num_shifts)\n",
    "\n",
    "    cash_flow = {\n",
    "        'negative':{\n",
    "            '1time': [\n",
    "                num_machines * machine[machine_type]['purchase_cost'], \n",
    "            ],\n",
    "            'annual': [\n",
    "                labour_cost, \n",
    "                num_machines * machine[machine_type]['annual_maintenance_cost'],\n",
    "                client_cost_per_piece * client_target,\n",
    "                internal_cost_per_piece * internal_target,\n",
    "                num_machines * machine[machine_type]['setup_cost'], # setup cost for client\n",
    "                num_machines * machine[machine_type]['setup_cost'], # setup cost for internal\n",
    "            ]\n",
    "        },\n",
    "        'positive':{\n",
    "            '1time': [salvage_rate * machine[machine_type]['purchase_cost'] * num_machines],\n",
    "            'annual': [8000*4.26] # savings when producing 8000 pieces internally\n",
    "        }\n",
    "    }\n",
    "    \n",
    "    return cash_flow"
   ]
  },
  {
   "cell_type": "code",
   "execution_count": 18,
   "metadata": {},
   "outputs": [
    {
     "name": "stdout",
     "output_type": "stream",
     "text": [
      "{'negative': {'1time': [162000], 'annual': [1113759.99, 12150, 100000.0, 5600.0, 6750, 6750]}, 'positive': {'1time': [16200.0], 'annual': [34080.0]}}\n",
      "{'negative': {'1time': [135000], 'annual': [561318.35, 12150, 100000.0, 5600.0, 5000, 5000]}, 'positive': {'1time': [13500.0], 'annual': [34080.0]}}\n",
      "{'negative': {'1time': [128000], 'annual': [113830.14, 8500, 100000.0, 5600.0, 6000, 6000]}, 'positive': {'1time': [12800.0], 'annual': [34080.0]}}\n",
      "{'negative': {'1time': [248000], 'annual': [0.0, 28800, 100000.0, 5600.0, 12000, 12000]}, 'positive': {'1time': [24800.0], 'annual': [34080.0]}}\n"
     ]
    }
   ],
   "source": [
    "'''I want to plot machine A for 200k pieces'''\n",
    "for m in ['A', 'B', 'C', 'D']:\n",
    "    print(cashflow_analysis(m))"
   ]
  },
  {
   "cell_type": "code",
   "execution_count": 19,
   "metadata": {},
   "outputs": [],
   "source": [
    "day_table = {\n",
    "    'Machine Type': ['A', 'B', 'C', 'D'],\n",
    "    'Machines Required': [],\n",
    "    'Days Producing for Client': [],\n",
    "    'Days Producing Internally': [],\n",
    "    'Total Production Days': [],\n",
    "}\n",
    "cashflow_table = {\n",
    "    'Machine Type': ['A', 'B', 'C', 'D'],\n",
    "    '- Purchase Cost': [],\n",
    "    '- Annual Labour Cost': [],\n",
    "    '- Annual Maintenance Cost': [],\n",
    "    '- Annual Client Piece Cost': [],\n",
    "    '- Annual Internal Piece Cost': [],\n",
    "    '- Annual Setup Cost': [],\n",
    "    '+ Salvage Value': [],\n",
    "    '+ Annual Internal Savings': [],\n",
    "}\n",
    "summary_table = {\n",
    "    'Machine Type': ['A', 'B', 'C', 'D'],\n",
    "    'One-time Outflow': [],\n",
    "    'Annual Outflow': [],\n",
    "    'Annual Inflow': [],\n",
    "    'One-time Inflow': [],\n",
    "}\n",
    "\n",
    "for mtype in ['A', 'B', 'C', 'D']:\n",
    "    num_machines, d1, d2 = number_of_machines_required(mtype)\n",
    "    \n",
    "    day_table['Machines Required'].append(num_machines)\n",
    "    day_table['Days Producing for Client'].append(d1)\n",
    "    day_table['Days Producing Internally'].append(d2)\n",
    "    day_table['Total Production Days'].append(d1+d2)\n",
    "    \n",
    "    cashflow = cashflow_analysis(mtype)\n",
    "\n",
    "    cashflow_table['- Purchase Cost'].append(cashflow['negative']['1time'][0])\n",
    "    cashflow_table['- Annual Labour Cost'].append(cashflow['negative']['annual'][0])\n",
    "    cashflow_table['- Annual Maintenance Cost'].append(cashflow['negative']['annual'][1])\n",
    "    cashflow_table['- Annual Client Piece Cost'].append(cashflow['negative']['annual'][2])\n",
    "    cashflow_table['- Annual Internal Piece Cost'].append(cashflow['negative']['annual'][3])\n",
    "    cashflow_table['- Annual Setup Cost'].append(cashflow['negative']['annual'][4] + cashflow['negative']['annual'][5])\n",
    "    cashflow_table['+ Salvage Value'].append(cashflow['positive']['1time'][0])\n",
    "    cashflow_table['+ Annual Internal Savings'].append(cashflow['positive']['annual'][0])\n",
    "\n",
    "    summary_table['One-time Outflow'].append(sum(cashflow['negative']['1time']))\n",
    "    summary_table['Annual Outflow'].append(sum(cashflow['negative']['annual']))\n",
    "    summary_table['Annual Inflow'].append(sum(cashflow['positive']['annual']))\n",
    "    summary_table['One-time Inflow'].append(sum(cashflow['positive']['1time']))"
   ]
  },
  {
   "cell_type": "code",
   "execution_count": 20,
   "metadata": {},
   "outputs": [],
   "source": [
    "day_df = pd.DataFrame(day_table)\n",
    "cashflow_df = pd.DataFrame(cashflow_table)\n",
    "summary_df = pd.DataFrame(summary_table)"
   ]
  },
  {
   "cell_type": "code",
   "execution_count": null,
   "metadata": {},
   "outputs": [],
   "source": []
  },
  {
   "cell_type": "code",
   "execution_count": 21,
   "metadata": {},
   "outputs": [],
   "source": [
    "def display(df):\n",
    "    print(tabulate(df.T, tablefmt='fancy_grid'))"
   ]
  },
  {
   "cell_type": "code",
   "execution_count": 23,
   "metadata": {},
   "outputs": [
    {
     "name": "stdout",
     "output_type": "stream",
     "text": [
      "╒═══════════════════════════╤═════╤═════╤═════╤═════╕\n",
      "│ Machine Type              │ A   │ B   │ C   │ D   │\n",
      "├───────────────────────────┼─────┼─────┼─────┼─────┤\n",
      "│ Machines Required         │ 9   │ 5   │ 2   │ 2   │\n",
      "├───────────────────────────┼─────┼─────┼─────┼─────┤\n",
      "│ Days Producing for Client │ 232 │ 209 │ 209 │ 209 │\n",
      "├───────────────────────────┼─────┼─────┼─────┼─────┤\n",
      "│ Days Producing Internally │ 5   │ 6   │ 9   │ 9   │\n",
      "├───────────────────────────┼─────┼─────┼─────┼─────┤\n",
      "│ Total Production Days     │ 237 │ 215 │ 218 │ 218 │\n",
      "╘═══════════════════════════╧═════╧═════╧═════╧═════╛\n"
     ]
    }
   ],
   "source": [
    "display(day_df)"
   ]
  },
  {
   "cell_type": "code",
   "execution_count": 24,
   "metadata": {},
   "outputs": [
    {
     "name": "stdout",
     "output_type": "stream",
     "text": [
      "╒══════════════════════════════╤════════════╤═══════════╤═══════════╤══════════╕\n",
      "│ Machine Type                 │ A          │ B         │ C         │ D        │\n",
      "├──────────────────────────────┼────────────┼───────────┼───────────┼──────────┤\n",
      "│ - Purchase Cost              │ 162000     │ 135000    │ 128000    │ 248000   │\n",
      "├──────────────────────────────┼────────────┼───────────┼───────────┼──────────┤\n",
      "│ - Annual Labour Cost         │ 1113759.99 │ 561318.35 │ 113830.14 │ 0.0      │\n",
      "├──────────────────────────────┼────────────┼───────────┼───────────┼──────────┤\n",
      "│ - Annual Maintenance Cost    │ 12150      │ 12150     │ 8500      │ 28800    │\n",
      "├──────────────────────────────┼────────────┼───────────┼───────────┼──────────┤\n",
      "│ - Annual Client Piece Cost   │ 100000.0   │ 100000.0  │ 100000.0  │ 100000.0 │\n",
      "├──────────────────────────────┼────────────┼───────────┼───────────┼──────────┤\n",
      "│ - Annual Internal Piece Cost │ 5600.0     │ 5600.0    │ 5600.0    │ 5600.0   │\n",
      "├──────────────────────────────┼────────────┼───────────┼───────────┼──────────┤\n",
      "│ - Annual Setup Cost          │ 13500      │ 10000     │ 12000     │ 24000    │\n",
      "├──────────────────────────────┼────────────┼───────────┼───────────┼──────────┤\n",
      "│ + Salvage Value              │ 16200.0    │ 13500.0   │ 12800.0   │ 24800.0  │\n",
      "├──────────────────────────────┼────────────┼───────────┼───────────┼──────────┤\n",
      "│ + Annual Internal Savings    │ 34080.0    │ 34080.0   │ 34080.0   │ 34080.0  │\n",
      "╘══════════════════════════════╧════════════╧═══════════╧═══════════╧══════════╛\n"
     ]
    }
   ],
   "source": [
    "display(cashflow_df)"
   ]
  },
  {
   "cell_type": "code",
   "execution_count": 26,
   "metadata": {},
   "outputs": [
    {
     "name": "stdout",
     "output_type": "stream",
     "text": [
      "╒══════════════════╤════════════╤═══════════╤═══════════╤══════════╕\n",
      "│ Machine Type     │ A          │ B         │ C         │ D        │\n",
      "├──────────────────┼────────────┼───────────┼───────────┼──────────┤\n",
      "│ One-time Outflow │ 162000     │ 135000    │ 128000    │ 248000   │\n",
      "├──────────────────┼────────────┼───────────┼───────────┼──────────┤\n",
      "│ Annual Outflow   │ 1245009.99 │ 689068.35 │ 239930.14 │ 158400.0 │\n",
      "├──────────────────┼────────────┼───────────┼───────────┼──────────┤\n",
      "│ Annual Inflow    │ 34080.0    │ 34080.0   │ 34080.0   │ 34080.0  │\n",
      "├──────────────────┼────────────┼───────────┼───────────┼──────────┤\n",
      "│ One-time Inflow  │ 16200.0    │ 13500.0   │ 12800.0   │ 24800.0  │\n",
      "╘══════════════════╧════════════╧═══════════╧═══════════╧══════════╛\n"
     ]
    }
   ],
   "source": [
    "display(summary_df)"
   ]
  },
  {
   "cell_type": "code",
   "execution_count": 27,
   "metadata": {},
   "outputs": [
    {
     "data": {
      "image/png": "[encoded data removed]",
      "text/plain": [
       "<Figure size 432x288 with 1 Axes>"
      ]
     },
     "metadata": {
      "needs_background": "light"
     },
     "output_type": "display_data"
    }
   ],
   "source": [
    "def FP(i, N):\n",
    "    return (1+i)**N\n",
    "\n",
    "\n",
    "def PF(i, N):\n",
    "    return 1/FP(i, N)\n",
    "\n",
    "\n",
    "def AP(i, N):\n",
    "    return (i*(1+i)**N)/((1+i)**N - 1)\n",
    "\n",
    "\n",
    "def PA(i, N, g=None):\n",
    "    if g is not None:\n",
    "        return PA(i, N)/(1+g)\n",
    "\n",
    "    return 1/AP(i, N)\n",
    "\n",
    "\n",
    "def PW(cashflow, i):\n",
    "    pw = - sum(cashflow['negative']['1time']) +\\\n",
    "    (sum(cashflow['positive']['annual']) - sum(cashflow['negative']['annual'])) * PA(i, N=5) +\\\n",
    "    sum(cashflow['positive']['1time'])* PF(i,N=5)\n",
    "    return pw\n",
    "\n",
    "def add_origin():\n",
    "    plt.axhline(color='black', linestyle='--')\n",
    "    plt.axvline(color='black', linestyle='--')\n",
    "\n",
    "def plot_pw():\n",
    "    for mtype in ['A', 'B', 'C', 'D']:\n",
    "        cashflow = cashflow_analysis(mtype)\n",
    "        domain = np.linspace(0.1, 100)\n",
    "        image = np.array([PW(cashflow, i/100) for i in domain])\n",
    "        plt.plot(domain, image)\n",
    "    plt.legend(['A', 'B', 'C', 'D'])\n",
    "    add_origin()\n",
    "\n",
    "plot_pw()"
   ]
  },
  {
   "cell_type": "code",
   "execution_count": null,
   "metadata": {},
   "outputs": [],
   "source": []
  }
 ],
 "metadata": {
  "kernelspec": {
   "display_name": "Python 3.7.3 64-bit ('base': conda)",
   "language": "python",
   "name": "python373jvsc74a57bd0c45cdf6df24675bf67e5fc19df95755123c243deb329b3bb04819ded0166397d"
  },
  "language_info": {
   "codemirror_mode": {
    "name": "ipython",
    "version": 3
   },
   "file_extension": ".py",
   "mimetype": "text/x-python",
   "name": "python",
   "nbconvert_exporter": "python",
   "pygments_lexer": "ipython3",
   "version": "3.7.3"
  }
 },
 "nbformat": 4,
 "nbformat_minor": 4
}

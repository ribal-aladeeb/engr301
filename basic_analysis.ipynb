{
 "cells": [
  {
   "cell_type": "code",
   "execution_count": 39,
   "metadata": {},
   "outputs": [],
   "source": [
    "import numpy as np\n",
    "import matplotlib.pyplot as plt\n",
    "import math"
   ]
  },
  {
   "cell_type": "code",
   "execution_count": 65,
   "metadata": {},
   "outputs": [],
   "source": [
    "client_cost_per_piece = 0.5\n",
    "our_part_per_piece = 0.7\n",
    "salvage_rate = 0.1\n",
    "\n",
    "machine = {\n",
    "    'A': {\n",
    "        'purchase_cost': 18000,\n",
    "        'annual_maintenance_cost': 1350,\n",
    "        'setup_cost': 750,\n",
    "        'production_rate': 6,\n",
    "        'internal_rate': 6*2\n",
    "    },\n",
    "    'B': {\n",
    "        'purchase_cost': 27000,\n",
    "        'annual_maintenance_cost': 2430,\n",
    "        'setup_cost': 1000,\n",
    "        'production_rate': 12,\n",
    "        'interal_rate': int(12*1.5),\n",
    "    },\n",
    "    'C': {\n",
    "        'purchase_cost': 64000,\n",
    "        'annual_maintenance_cost': 4250,\n",
    "        'setup_cost': 3000,\n",
    "        'production_rate': 30,\n",
    "        'internal_rate': 30,\n",
    "    },\n",
    "    'D': {\n",
    "        'purchase_cost': 124000,\n",
    "        'annual_maintenance_cost': 14400,\n",
    "        'setup_cost': 6000,\n",
    "        'production_rate': 30,\n",
    "        'internal_rate': 30,\n",
    "    },\n",
    "}\n"
   ]
  },
  {
   "source": [
    "Assumptions:<br>\n",
    "- 200k pieces/year<br>\n",
    "<br>because the machines have a 1M piece life cycle and the managers want a 5 year life cycle each year we need to produce 200K pieces for a total of 1M pieces after 5 years.\n",
    "<br><br>\n",
    "\n",
    "- salvage price of 10% of initial price<br>\n",
    "<br>We analysed prices from [this website](https://www.sterlingmachinery.com/new-used-lathes-sale-engine-lathe/new-used-engine-lathe.html) and determined that the average resale price is close 0.1 times the original prices for those machines.\n",
    "<br><br>\n",
    "\n",
    "- The machines will run 2 shifts (8 hours each)<br>\n",
    "<br>The reason for that is that we feel like it is useless to only utilize a 1/3 of a day to produce parts as it is a waste of time and can seriously slow down the project. It is also just common industry practice to have the machines run for more than 1 shift/day.\n",
    "<br><br>\n",
    "\n",
    "- 11% interest rate<br>\n",
    "<br> we use that rate simply because it is very similar to the rates seen in practice problems throughout the course.\n",
    "<br><br>\n",
    "\n",
    "- Interest is compunded yearly (for simplicity's sake)\n",
    "\n",
    "- 52 weeks x 5 days/week = 260 business days per year\n",
    "\n"
   ],
   "cell_type": "markdown",
   "metadata": {}
  },
  {
   "cell_type": "code",
   "execution_count": 53,
   "metadata": {},
   "outputs": [],
   "source": [
    "base_hourly_salary = 14.29\n",
    "extra_shift_multiplier = 0.25\n",
    "benefits_multiplier = 0.63      # is applied to base pay only\n",
    "manufacturing_overhead = 0.47   # is applied to direct pay\n",
    "\n",
    "def nominal_labour_cost(days=260, shifts=2):\n",
    "    '''for 1 operator'''\n",
    "\n",
    "    hourly_cost1 = (\n",
    "        base_hourly_salary + \n",
    "        base_hourly_salary * benefits_multiplier + \n",
    "        base_hourly_salary * manufacturing_overhead\n",
    "    )\n",
    "    shift1 = days * 8 * hourly_cost1\n",
    "\n",
    "    if shifts > 1:\n",
    "\n",
    "        extra_shifts = shifts-1\n",
    "        direct_pay = base_hourly_salary * extra_shift_multiplier\n",
    "        hourly_costx = (\n",
    "            direct_pay + \n",
    "            base_hourly_salary * benefits_multiplier +\n",
    "            direct_pay * manufacturing_overhead\n",
    "        )\n",
    "        shiftx = days * 8 * extra_shifts * hourly_costx\n",
    "    else:\n",
    "        shiftx = 0\n",
    "    \n",
    "    total_labour_cost = shift1 + shiftx\n",
    "\n",
    "    return round(total_labour_cost,2)\n"
   ]
  },
  {
   "cell_type": "code",
   "execution_count": 84,
   "metadata": {},
   "outputs": [],
   "source": [
    "\n",
    "def nominal_yearly_cost_client(machine_type, num_shifts=2, target=200000):\n",
    "    num_machines, num_days = number_of_machines_required(machine_type, num_shifts, target)\n",
    "    \n",
    "    if machine_type == 'A' or machine_type == 'B':\n",
    "        operators_required = num_machines\n",
    "    elif machine_type == 'C':\n",
    "        operators_required = num_machines//2\n",
    "    else:\n",
    "        operators_required = 0\n",
    "\n",
    "    labour_cost = operators_required * nominal_labour_cost(num_days, num_shifts)\n",
    "\n",
    "    cash_flow = {\n",
    "        'negative':{\n",
    "            '1time': [\n",
    "                num_machines * machine[machine_type]['purchase_cost'], \n",
    "                num_machines * machine[machine_type]['setup_cost']\n",
    "            ],\n",
    "            'annual': [\n",
    "                labour_cost, \n",
    "                num_machines * machine[machine_type]['annual_maintenance_cost'],\n",
    "                client_cost_per_piece * target\n",
    "            ]\n",
    "        },\n",
    "        'positive':{\n",
    "            '1time': [salvage_rate * machine[machine_type]['purchase_cost'] * num_machines],\n",
    "            'annual': []\n",
    "        }\n",
    "    }\n",
    "    \n",
    "    return cash_flow, num_machines, num_days\n"
   ]
  },
  {
   "cell_type": "code",
   "execution_count": 85,
   "metadata": {},
   "outputs": [
    {
     "output_type": "execute_result",
     "data": {
      "text/plain": [
       "({'negative': {'1time': [162000, 6750],\n",
       "   'annual': [739373.76, 12150, 100000.0]},\n",
       "  'positive': {'1time': [16200.0], 'annual': []}},\n",
       " 9,\n",
       " 232)"
      ]
     },
     "metadata": {},
     "execution_count": 85
    }
   ],
   "source": [
    "'''I want to plot machine A for 200k pieces'''\n",
    "diagram = nominal_yearly_cost_client('A')\n",
    "diagram"
   ]
  },
  {
   "cell_type": "code",
   "execution_count": 43,
   "metadata": {},
   "outputs": [
    {
     "output_type": "execute_result",
     "data": {
      "text/plain": [
       "(5, 209)"
      ]
     },
     "metadata": {},
     "execution_count": 43
    }
   ],
   "source": [
    "def number_of_machines_required(machine_type, num_shifts, target=200000):\n",
    "    '''\n",
    "    This function tells you how many machines you need given a type and the number\n",
    "    of shifts that the machines will be running (1, 2, or 3). It is assumed that machines run\n",
    "    5 days/week, 4 weeks/month, 12 months/year.\n",
    "    52 weeks x 5 days/week = 260 business days/year\n",
    "    '''\n",
    "    \n",
    "    rate = machine[machine_type]['production_rate']\n",
    "    N = math.ceil(target / (rate*num_shifts*8*5*52))\n",
    "    # buffer = math.ceil(N) * rate * num_shifts * 8 * 5 * 4 * 12 - target\n",
    "    days_required = math.ceil(target/ (N * rate * num_shifts * 8))\n",
    "    return N, days_required\n",
    "\n",
    "number_of_machines_required(machine_type='B', num_shifts=2, target=200000)\n",
    "\n",
    "# make a pandas table to show the number of machines required and the days required"
   ]
  },
  {
   "cell_type": "code",
   "execution_count": 7,
   "metadata": {},
   "outputs": [
    {
     "output_type": "execute_result",
     "data": {
      "text/plain": [
       "34080.0"
      ]
     },
     "metadata": {},
     "execution_count": 7
    }
   ],
   "source": [
    "needed_pieces = 8000\n",
    "unit_price = 4.26\n",
    "current_expenditures = needed_pieces * unit_price\n",
    "current_expenditures "
   ]
  }
 ],
 "metadata": {
  "kernelspec": {
   "name": "python38564bitcomp432condaeb7ca64abdef46ef98bf3c76341124d1",
   "display_name": "Python 3.8.5 64-bit ('comp432': conda)"
  },
  "language_info": {
   "codemirror_mode": {
    "name": "ipython",
    "version": 3
   },
   "file_extension": ".py",
   "mimetype": "text/x-python",
   "name": "python",
   "nbconvert_exporter": "python",
   "pygments_lexer": "ipython3",
   "version": "3.8.5"
  },
  "metadata": {
   "interpreter": {
    "hash": "3c803891a7aed676fcc5b04bc752618aadf3280347aad853ccf8e6baa35f2be1"
   }
  }
 },
 "nbformat": 4,
 "nbformat_minor": 4
}
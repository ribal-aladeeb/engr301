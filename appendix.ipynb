{
 "cells": [
  {
   "cell_type": "markdown",
   "metadata": {},
   "source": [
    "# Appendix"
   ]
  },
  {
   "cell_type": "code",
   "execution_count": 70,
   "metadata": {},
   "outputs": [],
   "source": [
    "import numpy as np\n",
    "import matplotlib.pyplot as plt\n",
    "import math\n",
    "import pandas as pd\n",
    "from tabulate import tabulate"
   ]
  },
  {
   "cell_type": "markdown",
   "metadata": {},
   "source": [
    "# This is the Quantitative Cashflow Analysis for our Project\n",
    "\n",
    "### First let's write down the data required for the analysis"
   ]
  },
  {
   "cell_type": "code",
   "execution_count": 71,
   "metadata": {},
   "outputs": [],
   "source": [
    "client_cost_per_piece = 0.5\n",
    "internal_cost_per_piece = 0.7\n",
    "salvage_rate = 0.1\n",
    "\n",
    "def dollar(amount): \n",
    "    return \"${:,.2f}\".format(amount)\n",
    "\n",
    "machine = {\n",
    "    'A': {\n",
    "        'purchase_cost': 18000,\n",
    "        'annual_maintenance_cost': 1350,\n",
    "        'setup_cost': 750,\n",
    "        'production_rate': 6,\n",
    "        'internal_rate': 6*2\n",
    "    },\n",
    "    'B': {\n",
    "        'purchase_cost': 27000,\n",
    "        'annual_maintenance_cost': 2430,\n",
    "        'setup_cost': 1000,\n",
    "        'production_rate': 12,\n",
    "        'internal_rate': int(12*1.5),\n",
    "    },\n",
    "    'C': {\n",
    "        'purchase_cost': 64000,\n",
    "        'annual_maintenance_cost': 4250,\n",
    "        'setup_cost': 3000,\n",
    "        'production_rate': 30,\n",
    "        'internal_rate': 30,\n",
    "    },\n",
    "    'D': {\n",
    "        'purchase_cost': 124000,\n",
    "        'annual_maintenance_cost': 14400,\n",
    "        'setup_cost': 6000,\n",
    "        'production_rate': 30,\n",
    "        'internal_rate': 30,\n",
    "    },\n",
    "}"
   ]
  },
  {
   "cell_type": "markdown",
   "metadata": {},
   "source": [
    "# 1. Assumptions:<br>\n",
    "- ## 200k pieces/year\n",
    "Because the machines have a 1M piece life cycle and the managers want a 5 year life cycle, each year we need to produce 200K pieces for a total of 1M pieces after 5 years. Then the machines would be sold.\n",
    "<br><br>\n",
    "\n",
    "- ## Salvage value is 10% of initial price\n",
    "We analysed prices from [this website](https://www.sterlingmachinery.com/new-used-lathes-sale-engine-lathe/new-used-engine-lathe.html) and determined that the average resale price is close 10% of the original prices for those machines.\n",
    "<br><br>\n",
    "\n",
    "- ## The machines will run 2 shifts/day (8 hours each)\n",
    "The reason for that is that we feel like it is useless to only utilize a 1/3 of a day to produce parts as it is a waste of time and can seriously slow down the project. It is also just common industry practice to have the machines run for more than 1 shift/day. By doubling the time of production daily we can afford to cut down on the number of machines that we have to buy in order to fullfil our production requirements.\n",
    "<br><br>\n",
    "\n",
    "- ## Interest is compunded yearly (for simplicity's sake)\n",
    "This will allow us to considred a single Annuity per annum at the end of each year, making which would make the analysis equivalent to paying salaries bi-weekly but simplifies our charts and calculations. In this manner there is an initial cost, 5 annuities (1 for each year) and a resale at the end of the machines' life cycle.\n",
    "<br><br>\n",
    "\n",
    "- ## 52 weeks x 5 days/week = 260 business days/year\n",
    "It is assumed that all production happens during normal business days."
   ]
  },
  {
   "cell_type": "markdown",
   "metadata": {},
   "source": [
    "# 2. Let's build our functions from the ground up"
   ]
  },
  {
   "cell_type": "code",
   "execution_count": 72,
   "metadata": {},
   "outputs": [],
   "source": [
    "base_hourly_salary = 14.29\n",
    "extra_shift_multiplier = 0.25\n",
    "benefits_multiplier = 0.63      # is applied to base pay only\n",
    "manufacturing_overhead = 0.47   # is applied to direct pay\n",
    "\n",
    "def nominal_labour_cost(days=260, shifts=2):\n",
    "    '''\n",
    "    Given a number of days and shifts, this function will calculate \n",
    "    the cost of 1 operator working. It will apply all multipliers and \n",
    "    necessary overhead costs.\n",
    "    '''\n",
    "\n",
    "    hourly_cost1 = (\n",
    "        base_hourly_salary + \n",
    "        base_hourly_salary * benefits_multiplier + \n",
    "        base_hourly_salary * manufacturing_overhead\n",
    "    )\n",
    "    shift1 = days * 8 * hourly_cost1\n",
    "    \n",
    "    # print(f'hourly cost shift 1 = {round(hourly_cost1,2)}')\n",
    "\n",
    "    if shifts > 1:\n",
    "\n",
    "        extra_shifts = shifts-1\n",
    "        direct_pay = base_hourly_salary * (1 + extra_shift_multiplier)\n",
    "        hourly_costx = (\n",
    "            direct_pay + \n",
    "            base_hourly_salary * benefits_multiplier +\n",
    "            direct_pay * manufacturing_overhead\n",
    "        )\n",
    "        shiftx = days * 8 * extra_shifts * hourly_costx\n",
    "    else:\n",
    "        shiftx = 0\n",
    "    \n",
    "    # print(f'hourly cost for extra shifts = {round(hourly_costx,2)}')\n",
    "\n",
    "    total_labour_cost = shift1 + shiftx\n",
    "\n",
    "    return round(total_labour_cost,2)"
   ]
  },
  {
   "cell_type": "code",
   "execution_count": 73,
   "metadata": {},
   "outputs": [],
   "source": [
    "def number_of_machines_required(machine_type, num_shifts=2, client_target=200000, internal_target=8000):\n",
    "    '''\n",
    "    This function tells you how many machines you need given a type and the number\n",
    "    of shifts that the machines will be running (1, 2, or 3).\n",
    "    '''\n",
    "    \n",
    "    r1 = machine[machine_type]['production_rate']\n",
    "    r2 = machine[machine_type]['internal_rate']\n",
    "    c1 = client_target\n",
    "    c2 = internal_target\n",
    "    s = num_shifts      # number of shifts per day\n",
    "    d1 = 0              # days spent producing for client\n",
    "    d2 = 0              # days spent producing internally\n",
    "\n",
    "    # N*r1*(8)*s*d1 = c1\n",
    "    # N*r2*(8)*s*(260-d1) = c2\n",
    "    # N\n",
    "\n",
    "    N = (c2+c1*(r2/r1))/(260*8*s*r2)  # N is the number of machines required\n",
    "    N = math.ceil(N)\n",
    "    d1 = math.ceil(c1/(N*r1*s*8))\n",
    "    d2 = math.ceil(c2/(N*r2*s*8))\n",
    "\n",
    "    return N, d1, d2"
   ]
  },
  {
   "cell_type": "markdown",
   "metadata": {},
   "source": [
    "# 3. Cashflow analysis\n",
    "In the function below we will first find the number of machines required given client and internal production targets. Then we can use the number of machines and days of production to calculate all inflows and outflows of cash.\n",
    "\n",
    "Since we use the same machines to produce the client's part as well as ours, every year we have to setup the machines once for our client's production and once for the internal part that we wish to produce. this implies that the setup cost is part of annuities instead of being a one-time cost."
   ]
  },
  {
   "cell_type": "code",
   "execution_count": 74,
   "metadata": {},
   "outputs": [],
   "source": [
    "def cashflow_analysis(machine_type, num_shifts=2, client_target=200000, internal_target=8000):\n",
    "    \n",
    "    num_machines, d1, d2 = number_of_machines_required(machine_type,\n",
    "                                                        num_shifts,\n",
    "                                                        client_target,\n",
    "                                                        internal_target\n",
    "                                                    )\n",
    "    \n",
    "    num_days = d1 + d2\n",
    "    if machine_type == 'A' or machine_type == 'B':\n",
    "        operators_required = num_machines\n",
    "    elif machine_type == 'C':\n",
    "        operators_required = num_machines//2\n",
    "    else:\n",
    "        operators_required = 0\n",
    "\n",
    "    labour_cost = operators_required * nominal_labour_cost(num_days, num_shifts)\n",
    "\n",
    "    cash_flow = {\n",
    "        'negative':{\n",
    "            '1time': [\n",
    "                num_machines * machine[machine_type]['purchase_cost'], \n",
    "            ],\n",
    "            'annual': [\n",
    "                labour_cost, \n",
    "                num_machines * machine[machine_type]['annual_maintenance_cost'],\n",
    "                client_cost_per_piece * client_target,\n",
    "                internal_cost_per_piece * internal_target,\n",
    "                num_machines * machine[machine_type]['setup_cost'], # setup cost for client\n",
    "                num_machines * machine[machine_type]['setup_cost'], # setup cost for internal\n",
    "            ]\n",
    "        },\n",
    "        'positive':{\n",
    "            '1time': [salvage_rate * machine[machine_type]['purchase_cost'] * num_machines],\n",
    "            'annual': [8000*4.26] # savings when producing 8000 pieces internally\n",
    "        }\n",
    "    }\n",
    "    \n",
    "    return cash_flow"
   ]
  },
  {
   "cell_type": "markdown",
   "metadata": {},
   "source": [
    "### Now let's see what the raw data for the cashflows of each machine type looks like\n",
    "This data is a bit hard to parse and understand if you haven't written the code yourself. Instead we will plot and detail all of these cashflows in clear tables that you can find further down in the analysis."
   ]
  },
  {
   "cell_type": "code",
   "execution_count": 75,
   "metadata": {},
   "outputs": [
    {
     "name": "stdout",
     "output_type": "stream",
     "text": [
      "{'negative': {'1time': [162000], 'annual': [1113759.99, 12150, 100000.0, 5600.0, 6750, 6750]}, 'positive': {'1time': [16200.0], 'annual': [34080.0]}}\n",
      "{'negative': {'1time': [135000], 'annual': [561318.35, 12150, 100000.0, 5600.0, 5000, 5000]}, 'positive': {'1time': [13500.0], 'annual': [34080.0]}}\n",
      "{'negative': {'1time': [128000], 'annual': [113830.14, 8500, 100000.0, 5600.0, 6000, 6000]}, 'positive': {'1time': [12800.0], 'annual': [34080.0]}}\n",
      "{'negative': {'1time': [248000], 'annual': [0.0, 28800, 100000.0, 5600.0, 12000, 12000]}, 'positive': {'1time': [24800.0], 'annual': [34080.0]}}\n"
     ]
    }
   ],
   "source": [
    "for m in ['A', 'B', 'C', 'D']:\n",
    "    print(cashflow_analysis(m))"
   ]
  },
  {
   "cell_type": "markdown",
   "metadata": {},
   "source": [
    "## 3.1 Cashflow Diagrams\n",
    "#### Here are the diagrams for all four machine types\n"
   ]
  },
  {
   "cell_type": "markdown",
   "metadata": {},
   "source": [
    "#### 3.1.1 Machine A\n",
    "<img src='images/cashflow_a.png'>"
   ]
  },
  {
   "cell_type": "markdown",
   "metadata": {},
   "source": [
    "#### 3.1.2 Machine B\n",
    "<img src='images/cashflow_b.png'>"
   ]
  },
  {
   "cell_type": "markdown",
   "metadata": {},
   "source": [
    "#### 3.1.3 Machine C\n",
    "<img src='images/cashflow_c.png'>"
   ]
  },
  {
   "cell_type": "markdown",
   "metadata": {},
   "source": [
    "#### 3.1.4 Machine D\n",
    "<img src='images/cashflow_d.png'>"
   ]
  },
  {
   "cell_type": "markdown",
   "metadata": {},
   "source": [
    "# 4. Analysis Results \n",
    "below is some code necessary to format the data to be displayed"
   ]
  },
  {
   "cell_type": "code",
   "execution_count": 76,
   "metadata": {},
   "outputs": [],
   "source": [
    "day_table = {\n",
    "    'Machine Type': ['A', 'B', 'C', 'D'],\n",
    "    'Machines Required': [],\n",
    "    'Days Producing for Client': [],\n",
    "    'Days Producing Internally': [],\n",
    "    'Total Production Days': [],\n",
    "}\n",
    "cashflow_table = {\n",
    "    'Machine Type': ['A', 'B', 'C', 'D'],\n",
    "    '- Purchase Cost': [],\n",
    "    '- Annual Labour Cost': [],\n",
    "    '- Annual Maintenance Cost': [],\n",
    "    '- Annual Client Piece Cost': [],\n",
    "    '- Annual Internal Piece Cost': [],\n",
    "    '- Annual Setup Cost': [],\n",
    "    '+ Salvage Value': [],\n",
    "    '+ Annual Internal Savings': [],\n",
    "}\n",
    "summary_table = {\n",
    "    'Machine Type': ['A', 'B', 'C', 'D'],\n",
    "    'One-time Outflow': [],\n",
    "    'Annual Outflow': [],\n",
    "    'Annual Inflow': [],\n",
    "    'One-time Inflow': [],\n",
    "}\n",
    "\n",
    "for mtype in ['A', 'B', 'C', 'D']:\n",
    "    num_machines, d1, d2 = number_of_machines_required(mtype)\n",
    "    \n",
    "    day_table['Machines Required'].append(num_machines)\n",
    "    day_table['Days Producing for Client'].append(d1)\n",
    "    day_table['Days Producing Internally'].append(d2)\n",
    "    day_table['Total Production Days'].append(d1+d2)\n",
    "    \n",
    "    cashflow = cashflow_analysis(mtype)\n",
    "\n",
    "    cashflow_table['- Purchase Cost'].append(cashflow['negative']['1time'][0])\n",
    "    cashflow_table['- Annual Labour Cost'].append(cashflow['negative']['annual'][0])\n",
    "    cashflow_table['- Annual Maintenance Cost'].append(cashflow['negative']['annual'][1])\n",
    "    cashflow_table['- Annual Client Piece Cost'].append(cashflow['negative']['annual'][2])\n",
    "    cashflow_table['- Annual Internal Piece Cost'].append(cashflow['negative']['annual'][3])\n",
    "    cashflow_table['- Annual Setup Cost'].append(cashflow['negative']['annual'][4] + cashflow['negative']['annual'][5])\n",
    "    cashflow_table['+ Salvage Value'].append(cashflow['positive']['1time'][0])\n",
    "    cashflow_table['+ Annual Internal Savings'].append(cashflow['positive']['annual'][0])\n",
    "\n",
    "    summary_table['One-time Outflow'].append(sum(cashflow['negative']['1time']))\n",
    "    summary_table['Annual Outflow'].append(sum(cashflow['negative']['annual']))\n",
    "    summary_table['Annual Inflow'].append(sum(cashflow['positive']['annual']))\n",
    "    summary_table['One-time Inflow'].append(sum(cashflow['positive']['1time']))\n",
    "\n",
    "def change_to_dollar(table):\n",
    "    for column in table:\n",
    "        if column == 'Machine Type':\n",
    "            continue\n",
    "        formatted = [dollar(amount) for amount in table[column]]\n",
    "        table[column] = formatted\n",
    "\n",
    "change_to_dollar(cashflow_table)\n",
    "change_to_dollar(summary_table)"
   ]
  },
  {
   "cell_type": "code",
   "execution_count": 77,
   "metadata": {},
   "outputs": [],
   "source": [
    "day_df = pd.DataFrame(day_table)\n",
    "cashflow_df = pd.DataFrame(cashflow_table)\n",
    "summary_df = pd.DataFrame(summary_table)"
   ]
  },
  {
   "cell_type": "code",
   "execution_count": 78,
   "metadata": {},
   "outputs": [],
   "source": [
    "def display(df):\n",
    "    print(tabulate(df.T, tablefmt='fancy_grid'))"
   ]
  },
  {
   "cell_type": "markdown",
   "metadata": {},
   "source": [
    "## 4.2 Tables\n"
   ]
  },
  {
   "cell_type": "code",
   "execution_count": 79,
   "metadata": {},
   "outputs": [
    {
     "name": "stdout",
     "output_type": "stream",
     "text": [
      "╒═══════════════════════════╤═════╤═════╤═════╤═════╕\n",
      "│ Machine Type              │ A   │ B   │ C   │ D   │\n",
      "├───────────────────────────┼─────┼─────┼─────┼─────┤\n",
      "│ Machines Required         │ 9   │ 5   │ 2   │ 2   │\n",
      "├───────────────────────────┼─────┼─────┼─────┼─────┤\n",
      "│ Days Producing for Client │ 232 │ 209 │ 209 │ 209 │\n",
      "├───────────────────────────┼─────┼─────┼─────┼─────┤\n",
      "│ Days Producing Internally │ 5   │ 6   │ 9   │ 9   │\n",
      "├───────────────────────────┼─────┼─────┼─────┼─────┤\n",
      "│ Total Production Days     │ 237 │ 215 │ 218 │ 218 │\n",
      "╘═══════════════════════════╧═════╧═════╧═════╧═════╛\n",
      "Table 4.2.1: Machine requirements to produce 200,000 parts for the client and 8,000 internal parts annually.\n"
     ]
    }
   ],
   "source": [
    "display(day_df)\n",
    "print('Table 4.2.1: Machine requirements to produce 200,000 parts for the client and 8,000 internal parts annually.')"
   ]
  },
  {
   "cell_type": "code",
   "execution_count": 80,
   "metadata": {},
   "outputs": [
    {
     "name": "stdout",
     "output_type": "stream",
     "text": [
      "╒══════════════════════════════╤═══════════════╤═════════════╤═════════════╤═════════════╕\n",
      "│ Machine Type                 │ A             │ B           │ C           │ D           │\n",
      "├──────────────────────────────┼───────────────┼─────────────┼─────────────┼─────────────┤\n",
      "│ - Purchase Cost              │ $162,000.00   │ $135,000.00 │ $128,000.00 │ $248,000.00 │\n",
      "├──────────────────────────────┼───────────────┼─────────────┼─────────────┼─────────────┤\n",
      "│ - Annual Labour Cost         │ $1,113,759.99 │ $561,318.35 │ $113,830.14 │ $0.00       │\n",
      "├──────────────────────────────┼───────────────┼─────────────┼─────────────┼─────────────┤\n",
      "│ - Annual Maintenance Cost    │ $12,150.00    │ $12,150.00  │ $8,500.00   │ $28,800.00  │\n",
      "├──────────────────────────────┼───────────────┼─────────────┼─────────────┼─────────────┤\n",
      "│ - Annual Client Piece Cost   │ $100,000.00   │ $100,000.00 │ $100,000.00 │ $100,000.00 │\n",
      "├──────────────────────────────┼───────────────┼─────────────┼─────────────┼─────────────┤\n",
      "│ - Annual Internal Piece Cost │ $5,600.00     │ $5,600.00   │ $5,600.00   │ $5,600.00   │\n",
      "├──────────────────────────────┼───────────────┼─────────────┼─────────────┼─────────────┤\n",
      "│ - Annual Setup Cost          │ $13,500.00    │ $10,000.00  │ $12,000.00  │ $24,000.00  │\n",
      "├──────────────────────────────┼───────────────┼─────────────┼─────────────┼─────────────┤\n",
      "│ + Salvage Value              │ $16,200.00    │ $13,500.00  │ $12,800.00  │ $24,800.00  │\n",
      "├──────────────────────────────┼───────────────┼─────────────┼─────────────┼─────────────┤\n",
      "│ + Annual Internal Savings    │ $34,080.00    │ $34,080.00  │ $34,080.00  │ $34,080.00  │\n",
      "╘══════════════════════════════╧═══════════════╧═════════════╧═════════════╧═════════════╛\n",
      "Table 4.2.2: Detailed Inflows(-) and Outflows(+).\n"
     ]
    }
   ],
   "source": [
    "display(cashflow_df)\n",
    "print('Table 4.2.2: Detailed Inflows(-) and Outflows(+).')"
   ]
  },
  {
   "cell_type": "code",
   "execution_count": 81,
   "metadata": {},
   "outputs": [
    {
     "name": "stdout",
     "output_type": "stream",
     "text": [
      "╒══════════════════╤═══════════════╤═════════════╤═════════════╤═════════════╕\n",
      "│ Machine Type     │ A             │ B           │ C           │ D           │\n",
      "├──────────────────┼───────────────┼─────────────┼─────────────┼─────────────┤\n",
      "│ One-time Outflow │ $162,000.00   │ $135,000.00 │ $128,000.00 │ $248,000.00 │\n",
      "├──────────────────┼───────────────┼─────────────┼─────────────┼─────────────┤\n",
      "│ Annual Outflow   │ $1,245,009.99 │ $689,068.35 │ $239,930.14 │ $158,400.00 │\n",
      "├──────────────────┼───────────────┼─────────────┼─────────────┼─────────────┤\n",
      "│ Annual Inflow    │ $34,080.00    │ $34,080.00  │ $34,080.00  │ $34,080.00  │\n",
      "├──────────────────┼───────────────┼─────────────┼─────────────┼─────────────┤\n",
      "│ One-time Inflow  │ $16,200.00    │ $13,500.00  │ $12,800.00  │ $24,800.00  │\n",
      "╘══════════════════╧═══════════════╧═════════════╧═════════════╧═════════════╛\n",
      "Table 4.2.3: Summary of the Inflows and Outflows.\n"
     ]
    }
   ],
   "source": [
    "display(summary_df)\n",
    "print('Table 4.2.3: Summary of the Inflows and Outflows.')"
   ]
  },
  {
   "cell_type": "code",
   "execution_count": 82,
   "metadata": {},
   "outputs": [],
   "source": [
    "def FP(i, N):\n",
    "    return (1+i)**N\n",
    "\n",
    "\n",
    "def PF(i, N):\n",
    "    return 1/FP(i, N)\n",
    "\n",
    "\n",
    "def AP(i, N):\n",
    "    return (i*(1+i)**N)/((1+i)**N - 1)\n",
    "\n",
    "\n",
    "def PA(i, N, g=None):\n",
    "    if g is not None:\n",
    "        return PA(i, N)/(1+g)\n",
    "\n",
    "    return 1/AP(i, N)"
   ]
  },
  {
   "cell_type": "markdown",
   "metadata": {},
   "source": [
    "## 4.3 Present Worth Comparisons"
   ]
  },
  {
   "cell_type": "code",
   "execution_count": 83,
   "metadata": {},
   "outputs": [],
   "source": [
    "def PW(cashflow, i, revenue=0):\n",
    "    '''\n",
    "    Given some cashflow data and an interest rate i, \n",
    "    this function will calculate the present worth for a machine type.\n",
    "    Additionally you could theorize an annual revenue from our client contract\n",
    "    and recompute a theoretical Present Worth which takes annual revenue into account.\n",
    "    '''\n",
    "    pw = (\n",
    "        - sum(cashflow['negative']['1time']) +\n",
    "        (sum(cashflow['positive']['annual']) - sum(cashflow['negative']['annual']) + revenue) * PA(i, N=5) +\n",
    "        sum(cashflow['positive']['1time'])* PF(i,N=5)\n",
    "    )\n",
    "    return pw"
   ]
  },
  {
   "cell_type": "markdown",
   "metadata": {},
   "source": [
    "### Let's compute the PW of each machine type\n",
    "We will compute one PW comparision without any annual revenue.\n",
    "Then we will assume that the pieces we are selling to our client would cost similar to the pieces we are currently buying for ourselves \\(\\\\$4.26\\). This would put our annual revenue at 200,000 x 4.26 = \\\\$852,000.00"
   ]
  },
  {
   "cell_type": "code",
   "execution_count": 85,
   "metadata": {},
   "outputs": [
    {
     "name": "stdout",
     "output_type": "stream",
     "text": [
      "╒═══════════════════════════════════════════════╤════════════════╤════════════════╤═══════════════╤═══════════════╕\n",
      "│ Machine Type                                  │ A              │ B              │ C             │ D             │\n",
      "├───────────────────────────────────────────────┼────────────────┼────────────────┼───────────────┼───────────────┤\n",
      "│ Present Worth at MARR=15.0% and $0.00 revenue │ $-4,213,170.88 │ $-2,323,910.65 │ $-811,677.73  │ $-652,409.94  │\n",
      "├───────────────────────────────────────────────┼────────────────┼────────────────┼───────────────┼───────────────┤\n",
      "│ Assuming an Annual Revenue of $$852,000.00    │ $-1,357,134.73 │ $532,125.49    │ $2,044,358.41 │ $2,203,626.20 │\n",
      "╘═══════════════════════════════════════════════╧════════════════╧════════════════╧═══════════════╧═══════════════╛\n",
      "Table 4.3.1 Present Worth comparision, greater is better.\n"
     ]
    }
   ],
   "source": [
    "MARR = 0.15\n",
    "revenue = 2e5*4.26  # we can assume that the 200,000 pieces are sold to our client at a similiar price of $4.26 that we bought our internal part\n",
    "\n",
    "pw_table = {\n",
    "    'Machine Type': ['A', 'B', 'C', 'D'],\n",
    "    f'Present Worth at MARR={MARR*100}% and {dollar(0)} revenue': [],\n",
    "    f'Assuming an Annual Revenue of ${dollar(revenue)}': [],\n",
    "}\n",
    "\n",
    "for mtype in ['A', 'B', 'C', 'D']:\n",
    "    cashflow = cashflow_analysis(mtype)\n",
    "    pw_table[f'Present Worth at MARR={MARR*100}% and {dollar(0)} revenue'].append(round(PW(cashflow, i=MARR),2))\n",
    "    pw_table[f'Assuming an Annual Revenue of ${dollar(revenue)}'].append(\n",
    "        round(PW(cashflow,i=MARR, revenue=revenue),2)\n",
    "    )\n",
    "    \n",
    "pw_df = pd.DataFrame(pw_table)\n",
    "change_to_dollar(pw_df)\n",
    "display(pw_df)\n",
    "print('Table 4.3.1 Present Worth comparision, greater is better.')"
   ]
  },
  {
   "cell_type": "markdown",
   "metadata": {},
   "source": [
    "### As you can see, Machine D is the best option in all cases. Our recommendation is to go for Machine D"
   ]
  },
  {
   "cell_type": "code",
   "execution_count": null,
   "metadata": {},
   "outputs": [],
   "source": []
  }
 ],
 "metadata": {
  "kernelspec": {
   "display_name": "Python 3.7.3 64-bit ('base': conda)",
   "language": "python",
   "name": "python37364bitbasecondaeda94e21e1c340a4b5c22d54eadc687e"
  },
  "language_info": {
   "codemirror_mode": {
    "name": "ipython",
    "version": 3
   },
   "file_extension": ".py",
   "mimetype": "text/x-python",
   "name": "python",
   "nbconvert_exporter": "python",
   "pygments_lexer": "ipython3",
   "version": "3.7.3"
  },
  "metadata": {
   "interpreter": {
    "hash": "c45cdf6df24675bf67e5fc19df95755123c243deb329b3bb04819ded0166397d"
   }
  }
 },
 "nbformat": 4,
 "nbformat_minor": 4
}

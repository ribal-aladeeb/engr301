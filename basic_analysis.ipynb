{
 "cells": [
  {
   "cell_type": "code",
   "execution_count": 92,
   "metadata": {},
   "outputs": [],
   "source": [
    "import numpy as np\n",
    "import matplotlib.pyplot as plt\n",
    "import math\n",
    "import pandas as pd"
   ]
  },
  {
   "cell_type": "code",
   "execution_count": 93,
   "metadata": {},
   "outputs": [],
   "source": [
    "client_cost_per_piece = 0.5\n",
    "internal_cost_per_piece = 0.7\n",
    "salvage_rate = 0.1\n",
    "\n",
    "machine = {\n",
    "    'A': {\n",
    "        'purchase_cost': 18000,\n",
    "        'annual_maintenance_cost': 1350,\n",
    "        'setup_cost': 750,\n",
    "        'production_rate': 6,\n",
    "        'internal_rate': 6*2\n",
    "    },\n",
    "    'B': {\n",
    "        'purchase_cost': 27000,\n",
    "        'annual_maintenance_cost': 2430,\n",
    "        'setup_cost': 1000,\n",
    "        'production_rate': 12,\n",
    "        'internal_rate': int(12*1.5),\n",
    "    },\n",
    "    'C': {\n",
    "        'purchase_cost': 64000,\n",
    "        'annual_maintenance_cost': 4250,\n",
    "        'setup_cost': 3000,\n",
    "        'production_rate': 30,\n",
    "        'internal_rate': 30,\n",
    "    },\n",
    "    'D': {\n",
    "        'purchase_cost': 124000,\n",
    "        'annual_maintenance_cost': 14400,\n",
    "        'setup_cost': 6000,\n",
    "        'production_rate': 30,\n",
    "        'internal_rate': 30,\n",
    "    },\n",
    "}\n"
   ]
  },
  {
   "source": [
    "Assumptions:<br>\n",
    "- 200k pieces/year<br>\n",
    "<br>because the machines have a 1M piece life cycle and the managers want a 5 year life cycle each year we need to produce 200K pieces for a total of 1M pieces after 5 years.\n",
    "<br><br>\n",
    "\n",
    "- salvage price of 10% of initial price<br>\n",
    "<br>We analysed prices from [this website](https://www.sterlingmachinery.com/new-used-lathes-sale-engine-lathe/new-used-engine-lathe.html) and determined that the average resale price is close 0.1 times the original prices for those machines.\n",
    "<br><br>\n",
    "\n",
    "- The machines will run 2 shifts (8 hours each)<br>\n",
    "<br>The reason for that is that we feel like it is useless to only utilize a 1/3 of a day to produce parts as it is a waste of time and can seriously slow down the project. It is also just common industry practice to have the machines run for more than 1 shift/day.\n",
    "<br><br>\n",
    "\n",
    "- 11% interest rate<br>\n",
    "<br> we use that rate simply because it is very similar to the rates seen in practice problems throughout the course.\n",
    "<br><br>\n",
    "\n",
    "- Interest is compunded yearly (for simplicity's sake)\n",
    "\n",
    "- 52 weeks x 5 days/week = 260 business days per year\n",
    "\n"
   ],
   "cell_type": "markdown",
   "metadata": {}
  },
  {
   "cell_type": "code",
   "execution_count": 94,
   "metadata": {},
   "outputs": [],
   "source": [
    "base_hourly_salary = 14.29\n",
    "extra_shift_multiplier = 0.25\n",
    "benefits_multiplier = 0.63      # is applied to base pay only\n",
    "manufacturing_overhead = 0.47   # is applied to direct pay\n",
    "\n",
    "def nominal_labour_cost(days=260, shifts=2):\n",
    "    '''for 1 operator'''\n",
    "\n",
    "    hourly_cost1 = (\n",
    "        base_hourly_salary + \n",
    "        base_hourly_salary * benefits_multiplier + \n",
    "        base_hourly_salary * manufacturing_overhead\n",
    "    )\n",
    "    shift1 = days * 8 * hourly_cost1\n",
    "    \n",
    "    print(f'hourly cost shift 1 = {round(hourly_cost1,2)}')\n",
    "\n",
    "    if shifts > 1:\n",
    "\n",
    "        extra_shifts = shifts-1\n",
    "        direct_pay = base_hourly_salary * (1 + extra_shift_multiplier)\n",
    "        hourly_costx = (\n",
    "            direct_pay + \n",
    "            base_hourly_salary * benefits_multiplier +\n",
    "            direct_pay * manufacturing_overhead\n",
    "        )\n",
    "        shiftx = days * 8 * extra_shifts * hourly_costx\n",
    "    else:\n",
    "        shiftx = 0\n",
    "    \n",
    "    print(f'hourly cost for extra shifts = {round(hourly_costx,2)}')\n",
    "\n",
    "    total_labour_cost = shift1 + shiftx\n",
    "\n",
    "    return round(total_labour_cost,2)\n"
   ]
  },
  {
   "cell_type": "code",
   "execution_count": 104,
   "metadata": {},
   "outputs": [
    {
     "output_type": "stream",
     "name": "stdout",
     "text": [
      "The number of machines required: 5\nDays spent producing client pieces:   209\nDays spent producing internal pieces: 6\n                          Total days: 215\n"
     ]
    }
   ],
   "source": [
    "def number_of_machines_required(machine_type, num_shifts, client_target=200000, internal_target=8000):\n",
    "    '''\n",
    "    This function tells you how many machines you need given a type and the number\n",
    "    of shifts that the machines will be running (1, 2, or 3). It is assumed that machines run\n",
    "    5 days/week, 4 weeks/month, 12 months/year.\n",
    "    52 weeks x 5 days/week = 260 business days/year\n",
    "    '''\n",
    "    \n",
    "    r1 = machine[machine_type]['production_rate']\n",
    "    r2 = machine[machine_type]['internal_rate']\n",
    "    c1 = client_target\n",
    "    c2 = internal_target\n",
    "    s = num_shifts      # number of shifts per day\n",
    "    d1 = 0              # days spent producing for client\n",
    "    d2 = 0              # days spent producing internally\n",
    "\n",
    "    # N*r1*(8)*s*d1 = c1\n",
    "    # N*r2*(8)*s*(260-d1) = c2\n",
    "    # N\n",
    "\n",
    "    N = (c2+c1*(r2/r1))/(260*8*s*r2)\n",
    "    N = math.ceil(N)\n",
    "    d1 = math.ceil(c1/(N*r1*s*8))\n",
    "    d2 = math.ceil(c2/(N*r2*s*8))\n",
    "\n",
    "    return N, d1, d2\n",
    "\n",
    "num_machines, d1, d2 = number_of_machines_required(machine_type='B', num_shifts=2, client_target=200000, internal_target=8000)\n",
    "\n",
    "print(f'The number of machines required: {num_machines}')\n",
    "print(f'Days spent producing client pieces:   {d1}')\n",
    "print(f'Days spent producing internal pieces: {d2}')\n",
    "print(f'                          Total days: {d1+d2}')\n",
    "# make a pandas table to show the number of machines required and the days required"
   ]
  },
  {
   "cell_type": "code",
   "execution_count": 106,
   "metadata": {},
   "outputs": [],
   "source": [
    "\n",
    "def nominal_yearly_cost(machine_type, num_shifts=2, client_target=200000, internal_target=8000):\n",
    "    num_machines, d1, d2 = number_of_machines_required(machine_type,\n",
    "                                                        num_shifts,\n",
    "                                                        client_target,\n",
    "                                                        internal_target\n",
    "                                                        )\n",
    "    num_days = d1 + d2\n",
    "    if machine_type == 'A' or machine_type == 'B':\n",
    "        operators_required = num_machines\n",
    "    elif machine_type == 'C':\n",
    "        operators_required = num_machines//2\n",
    "    else:\n",
    "        operators_required = 0\n",
    "\n",
    "    labour_cost = operators_required * nominal_labour_cost(num_days, num_shifts)\n",
    "\n",
    "    cash_flow = {\n",
    "        'negative':{\n",
    "            '1time': [\n",
    "                num_machines * machine[machine_type]['purchase_cost'], \n",
    "            ],\n",
    "            'annual': [\n",
    "                labour_cost, \n",
    "                num_machines * machine[machine_type]['annual_maintenance_cost'],\n",
    "                client_cost_per_piece * client_target,\n",
    "                internal_cost_per_piece * internal_target,\n",
    "                num_machines * machine[machine_type]['setup_cost'], # setup cost for client\n",
    "                num_machines * machine[machine_type]['setup_cost'], # setup cost for internal\n",
    "            ]\n",
    "        },\n",
    "        'positive':{\n",
    "            '1time': [salvage_rate * machine[machine_type]['purchase_cost'] * num_machines],\n",
    "            'annual': []\n",
    "        }\n",
    "    }\n",
    "    \n",
    "    return cash_flow, num_machines, num_days\n"
   ]
  },
  {
   "cell_type": "code",
   "execution_count": 108,
   "metadata": {},
   "outputs": [
    {
     "output_type": "stream",
     "name": "stdout",
     "text": [
      "hourly cost shift 1 = 30.01\nhourly cost for extra shifts = 35.26\n"
     ]
    },
    {
     "output_type": "execute_result",
     "data": {
      "text/plain": [
       "({'negative': {'1time': [135000],\n",
       "   'annual': [561318.35, 12150, 100000.0, 5600.0, 5000, 5000]},\n",
       "  'positive': {'1time': [13500.0], 'annual': []}},\n",
       " 5,\n",
       " 215)"
      ]
     },
     "metadata": {},
     "execution_count": 108
    }
   ],
   "source": [
    "'''I want to plot machine A for 200k pieces'''\n",
    "diagram = nominal_yearly_cost('B')\n",
    "diagram"
   ]
  },
  {
   "cell_type": "code",
   "execution_count": null,
   "metadata": {},
   "outputs": [],
   "source": [
    "table = {'machine type': ['A', 'B', 'C', 'D'],\n",
    "'machines required': [],\n",
    "'days to produce for client': [],\n",
    "'days to produce internally': [],\n",
    "'total days': [],\n",
    "''}"
   ]
  },
  {
   "cell_type": "code",
   "execution_count": 98,
   "metadata": {},
   "outputs": [
    {
     "output_type": "execute_result",
     "data": {
      "text/plain": [
       "128800.0"
      ]
     },
     "metadata": {},
     "execution_count": 98
    }
   ],
   "source": [
    "needed_pieces = 8000\n",
    "unit_price = 4.26\n",
    "current_expenditures = needed_pieces * unit_price\n",
    "current_expenditures \n",
    "sum([0.0, 28800, 100000.0])"
   ]
  }
 ],
 "metadata": {
  "kernelspec": {
   "name": "python38564bitcomp432condaeb7ca64abdef46ef98bf3c76341124d1",
   "display_name": "Python 3.8.5 64-bit ('comp432': conda)"
  },
  "language_info": {
   "codemirror_mode": {
    "name": "ipython",
    "version": 3
   },
   "file_extension": ".py",
   "mimetype": "text/x-python",
   "name": "python",
   "nbconvert_exporter": "python",
   "pygments_lexer": "ipython3",
   "version": "3.8.5"
  },
  "metadata": {
   "interpreter": {
    "hash": "3c803891a7aed676fcc5b04bc752618aadf3280347aad853ccf8e6baa35f2be1"
   }
  }
 },
 "nbformat": 4,
 "nbformat_minor": 4
}